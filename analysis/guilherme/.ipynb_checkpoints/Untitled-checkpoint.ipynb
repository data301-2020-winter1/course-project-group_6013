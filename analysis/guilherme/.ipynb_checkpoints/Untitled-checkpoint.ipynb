{
 "cells": [
  {
   "cell_type": "code",
   "execution_count": 9,
   "metadata": {},
   "outputs": [],
   "source": [
    "import pandas as pd\n",
    "import csv\n",
    "import json\n",
    "import numpy as np\n",
    "#This loads the csv and json files for each country:\n",
    "countries = [\"CA\",\"DE\",\"GB\",\"FR\",\"IN\",\"JP\",\"KR\",\"MX\",\"RU\",\"US\"]\n",
    "data = []\n",
    "address = \"../../data/raw/\"\n",
    "for i in range(0,10) :\n",
    "    address_csv = address + countries[i] + \"videos.csv\"\n",
    "    address_json = address + countries[i] + \"_category_id.json\"\n",
    "    csvDF = pd.read_csv(address_csv)  #csv df created fro each country\n",
    "    jsonDF = pd.read_json(address_json)  #json df created for each country\n",
    "    dataFrames = [csvDF,jsonDF]    #a list of csv and json df created for each country\n",
    "    data.append(dataFrames) #A list of lists of csv and json df for each country \n",
    " #   print(\"current length is {0}\".format(len(data)))\n",
    "#print(len(data))\n",
    "DFs = {\"CA\" :data[0], \"DE\" :data[1], \"GB\" :data[2], \"FR\" :data[3],\"IN\" :data[4], \"JP\" :data[5], \"KR\" :data[6], \"MX\" :data[7], \"RU\" :data[8], \"US\" :data[9]} #A dictionary of countries and dfs\n",
    "newDF = DFs[\"CA\"][0] #A Canada df (csv only)\n",
    "for i in range(1,10) :\n",
    "    newDF = newDF.append(DFs[countries[i]][0],ignore_index=True) #appends the other countries csv dfs to the canada csv df\n",
    "#cleanup\n",
    "myDF = (\n",
    "newDF.replace(r'^\\s*$', np.NaN, regex=True).replace(\"[none]\",np.NaN).dropna()\n",
    ")       #method chaining used to replace empty strings with nan, [none] with nan, and to drop nan rows"
   ]
  },
  {
   "cell_type": "code",
   "execution_count": null,
   "metadata": {},
   "outputs": [],
   "source": []
  }
 ],
 "metadata": {
  "kernelspec": {
   "display_name": "Python 3",
   "language": "python",
   "name": "python3"
  },
  "language_info": {
   "codemirror_mode": {
    "name": "ipython",
    "version": 3
   },
   "file_extension": ".py",
   "mimetype": "text/x-python",
   "name": "python",
   "nbconvert_exporter": "python",
   "pygments_lexer": "ipython3",
   "version": "3.8.3"
  }
 },
 "nbformat": 4,
 "nbformat_minor": 4
}
