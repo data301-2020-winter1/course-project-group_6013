{
 "cells": [
  {
   "cell_type": "code",
   "execution_count": 2,
   "metadata": {},
   "outputs": [
    {
     "ename": "AttributeError",
     "evalue": "'dict' object has no attribute 'trending_date'",
     "output_type": "error",
     "traceback": [
      "\u001b[0;31m---------------------------------------------------------------------------\u001b[0m",
      "\u001b[0;31mAttributeError\u001b[0m                            Traceback (most recent call last)",
      "\u001b[0;32m<ipython-input-2-da79bdaece13>\u001b[0m in \u001b[0;36m<module>\u001b[0;34m\u001b[0m\n\u001b[1;32m     28\u001b[0m     \u001b[0;32mreturn\u001b[0m \u001b[0mnewDF\u001b[0m\u001b[0;34m\u001b[0m\u001b[0;34m\u001b[0m\u001b[0m\n\u001b[1;32m     29\u001b[0m \u001b[0;34m\u001b[0m\u001b[0m\n\u001b[0;32m---> 30\u001b[0;31m \u001b[0mprint\u001b[0m\u001b[0;34m(\u001b[0m\u001b[0mcleanDFs\u001b[0m\u001b[0;34m(\u001b[0m\u001b[0mcompileCountryDFs\u001b[0m\u001b[0;34m(\u001b[0m\u001b[0mDFs\u001b[0m\u001b[0;34m)\u001b[0m\u001b[0;34m)\u001b[0m\u001b[0;34m)\u001b[0m\u001b[0;34m\u001b[0m\u001b[0;34m\u001b[0m\u001b[0m\n\u001b[0m\u001b[1;32m     31\u001b[0m \u001b[0;34m\u001b[0m\u001b[0m\n\u001b[1;32m     32\u001b[0m \u001b[0;34m\u001b[0m\u001b[0m\n",
      "\u001b[0;32m<ipython-input-2-da79bdaece13>\u001b[0m in \u001b[0;36mcompileCountryDFs\u001b[0;34m(DFs)\u001b[0m\n\u001b[1;32m     17\u001b[0m \u001b[0;32mdef\u001b[0m \u001b[0mcompileCountryDFs\u001b[0m\u001b[0;34m(\u001b[0m\u001b[0mDFs\u001b[0m\u001b[0;34m)\u001b[0m \u001b[0;34m:\u001b[0m\u001b[0;34m\u001b[0m\u001b[0;34m\u001b[0m\u001b[0m\n\u001b[1;32m     18\u001b[0m     \u001b[0mcompiledDF\u001b[0m \u001b[0;34m=\u001b[0m \u001b[0mDFs\u001b[0m\u001b[0;34m[\u001b[0m\u001b[0;34m\"CA\"\u001b[0m\u001b[0;34m]\u001b[0m\u001b[0;34m[\u001b[0m\u001b[0;36m0\u001b[0m\u001b[0;34m]\u001b[0m\u001b[0;34m.\u001b[0m\u001b[0massign\u001b[0m\u001b[0;34m(\u001b[0m\u001b[0mCountry\u001b[0m \u001b[0;34m=\u001b[0m \u001b[0;34m'CA'\u001b[0m\u001b[0;34m)\u001b[0m\u001b[0;34m\u001b[0m\u001b[0;34m\u001b[0m\u001b[0m\n\u001b[0;32m---> 19\u001b[0;31m     \u001b[0mDFs\u001b[0m\u001b[0;34m[\u001b[0m\u001b[0;34m'trending_period'\u001b[0m\u001b[0;34m]\u001b[0m \u001b[0;34m=\u001b[0m \u001b[0mDFs\u001b[0m\u001b[0;34m.\u001b[0m\u001b[0mtrending_date\u001b[0m\u001b[0;34m.\u001b[0m\u001b[0mmap\u001b[0m\u001b[0;34m(\u001b[0m\u001b[0mDFs\u001b[0m\u001b[0;34m.\u001b[0m\u001b[0mtrending_date\u001b[0m\u001b[0;34m.\u001b[0m\u001b[0mvalue_counts\u001b[0m\u001b[0;34m(\u001b[0m\u001b[0;34m)\u001b[0m\u001b[0;34m)\u001b[0m\u001b[0;34m\u001b[0m\u001b[0;34m\u001b[0m\u001b[0m\n\u001b[0m\u001b[1;32m     20\u001b[0m     \u001b[0;32mfor\u001b[0m \u001b[0mi\u001b[0m \u001b[0;32min\u001b[0m \u001b[0mrange\u001b[0m\u001b[0;34m(\u001b[0m\u001b[0;36m1\u001b[0m\u001b[0;34m,\u001b[0m\u001b[0;36m10\u001b[0m\u001b[0;34m)\u001b[0m\u001b[0;34m:\u001b[0m\u001b[0;34m\u001b[0m\u001b[0;34m\u001b[0m\u001b[0m\n\u001b[1;32m     21\u001b[0m         \u001b[0mcompiledDF\u001b[0m \u001b[0;34m=\u001b[0m \u001b[0mcompiledDF\u001b[0m\u001b[0;34m.\u001b[0m\u001b[0mappend\u001b[0m\u001b[0;34m(\u001b[0m\u001b[0mDFs\u001b[0m\u001b[0;34m[\u001b[0m\u001b[0mcountries\u001b[0m\u001b[0;34m[\u001b[0m\u001b[0mi\u001b[0m\u001b[0;34m]\u001b[0m\u001b[0;34m]\u001b[0m\u001b[0;34m[\u001b[0m\u001b[0;36m0\u001b[0m\u001b[0;34m]\u001b[0m\u001b[0;34m.\u001b[0m\u001b[0massign\u001b[0m\u001b[0;34m(\u001b[0m\u001b[0mCountry\u001b[0m \u001b[0;34m=\u001b[0m \u001b[0mcountries\u001b[0m\u001b[0;34m[\u001b[0m\u001b[0mi\u001b[0m\u001b[0;34m]\u001b[0m\u001b[0;34m)\u001b[0m\u001b[0;34m,\u001b[0m\u001b[0mignore_index\u001b[0m \u001b[0;34m=\u001b[0m \u001b[0;32mTrue\u001b[0m\u001b[0;34m)\u001b[0m\u001b[0;34m\u001b[0m\u001b[0;34m\u001b[0m\u001b[0m\n",
      "\u001b[0;31mAttributeError\u001b[0m: 'dict' object has no attribute 'trending_date'"
     ]
    }
   ],
   "source": [
    "import pandas as pd\n",
    "import csv\n",
    "import json\n",
    "import numpy as np\n",
    "countries = [\"CA\", \"DE\",\"FR\",\"GB\",\"IN\", \"JP\", \"KR\", \"MX\",\"RU\", \"US\"]\n",
    "data = []\n",
    "address = \"../../data/raw/\"\n",
    "for i in range(0,10):\n",
    "    address_csv = address + countries[i] + \"videos.csv\"\n",
    "    address_json= address + countries[i] + \"_category_id.json\"\n",
    "    csvDF = pd.read_csv(address_csv)\n",
    "    jsonDF = pd.read_json(address_json)\n",
    "    dataFrames = [csvDF, jsonDF]\n",
    "    data.append(dataFrames)\n",
    "DFs = {\"CA\": data[0], \"DE\": data [1],\"FR\": data[2],\"GB\": data[3],\"IN\": data[4],\"JP\": data[5],\"KR\": data[6],\"MX\": data[7],\"RU\": data[8],\"US\": data[9]}\n",
    "\n",
    "def compileCountryDFs(DFs) :\n",
    "    compiledDF = DFs[\"CA\"][0].assign(Country = 'CA')\n",
    "    DFs['trending_period'] = DFs.trending_date.map(DFs.trending_date.value_counts())\n",
    "    for i in range(1,10):\n",
    "        compiledDF = compiledDF.append(DFs[countries[i]][0].assign(Country = countries[i]),ignore_index = True)\n",
    "    return compiledDF\n",
    "\n",
    "def cleanDFs(compiledDF) :\n",
    "    newDF = (\n",
    "    compiledDF.replace(r'^\\s*$',np.NaN, regex = True).replace(\"[none]\", np.NaN).dropna()\n",
    "    )\n",
    "    return newDF\n",
    "        \n",
    "print(cleanDFs(compileCountryDFs(DFs)))\n",
    "    \n",
    "    \n",
    "        \n",
    "    "
   ]
  },
  {
   "cell_type": "code",
   "execution_count": null,
   "metadata": {},
   "outputs": [],
   "source": []
  }
 ],
 "metadata": {
  "kernelspec": {
   "display_name": "Python 3",
   "language": "python",
   "name": "python3"
  },
  "language_info": {
   "codemirror_mode": {
    "name": "ipython",
    "version": 3
   },
   "file_extension": ".py",
   "mimetype": "text/x-python",
   "name": "python",
   "nbconvert_exporter": "python",
   "pygments_lexer": "ipython3",
   "version": "3.8.3"
  }
 },
 "nbformat": 4,
 "nbformat_minor": 4
}
