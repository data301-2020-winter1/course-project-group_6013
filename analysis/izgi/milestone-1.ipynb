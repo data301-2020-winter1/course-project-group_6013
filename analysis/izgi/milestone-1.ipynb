{
 "cells": [
  {
   "cell_type": "code",
   "execution_count": 10,
   "metadata": {},
   "outputs": [],
   "source": [
    "import pandas as pd\n",
    "import json\n",
    "import csv"
   ]
  },
  {
   "cell_type": "code",
   "execution_count": 12,
   "metadata": {},
   "outputs": [],
   "source": [
    "countries = [\"CA\", \"FR\",\"IN\",\"DE\",\"JP\", \"KR\", \"MX\", \"RU\",\"GB\", \"US\"]\n",
    "data = []\n",
    "address = \"../../data/raw\"\n"
   ]
  },
  {
   "cell_type": "code",
   "execution_count": null,
   "metadata": {},
   "outputs": [],
   "source": [
    "for i in range(0,10)\n",
    "    address_csv = address + countries[i] + \"videos.csv\"\n",
    "    address_json= address + countries[i] + \"_category_id.json\"\n",
    "    csvDf = pd.read_csv(address_csv)\n",
    "    jsonDf = pd.read_json(address_json)\n",
    "    dataFrames = [csvDf, jsonDf]\n",
    "    data.append(dataFrames)\n",
    "    DFs = {\"CA\": data[0], \"FR\": data [1],\"IN\": data[2],\"DE\": data[3],\"JP\": data[4],\"KR\": data[5],\"MX\": data[6],\"RU\": data[7],\"GB\": data[8],\"US\": data[9],}"
   ]
  }
 ],
 "metadata": {
  "kernelspec": {
   "display_name": "Python 3",
   "language": "python",
   "name": "python3"
  },
  "language_info": {
   "codemirror_mode": {
    "name": "ipython",
    "version": 3
   },
   "file_extension": ".py",
   "mimetype": "text/x-python",
   "name": "python",
   "nbconvert_exporter": "python",
   "pygments_lexer": "ipython3",
   "version": "3.8.3"
  }
 },
 "nbformat": 4,
 "nbformat_minor": 4
}
