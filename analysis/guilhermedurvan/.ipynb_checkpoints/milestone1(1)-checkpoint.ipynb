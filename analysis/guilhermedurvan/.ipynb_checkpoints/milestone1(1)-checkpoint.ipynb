{
 "cells": [
  {
   "cell_type": "code",
   "execution_count": 2,
   "metadata": {},
   "outputs": [],
   "source": [
    "import pandas as pd\n",
    "import csv\n",
    "import json\n",
    "countries = [\"CA\",\"DE\",\"GB\",\"FR\",\"IN\",\"JP\",\"KR\",\"MX\",\"RU\",\"US\"]\n",
    "data = []\n",
    "address = \"../../data/raw/\"\n",
    "for i in range(0,10) :\n",
    "    address_csv = address + countries[i] + \"videos.csv\"\n",
    "    address_json = address + countries[i] + \"_category_id.json\"\n",
    "    csvDF = pd.read_csv(address_csv)\n",
    "    jsonDF = pd.read_json(address_json)\n",
    "    dataFrames = [csvDF,jsonDF]\n",
    "    data.append(dataFrames)\n",
    " #   print(\"current length is {0}\".format(len(data)))\n",
    "#print(len(data))\n",
    "DFs = {\"CA\" :data[0], \"DE\" :data[1], \"GB\" :data[2], \"FR\" :data[3],\"IN\" :data[4], \"JP\" :data[5], \"KR\" :data[6], \"MX\" :data[7], \"RU\" :data[8], \"US\" :data[9]}"
   ]
  },
  {
   "cell_type": "code",
   "execution_count": null,
   "metadata": {},
   "outputs": [],
   "source": []
  }
 ],
 "metadata": {
  "kernelspec": {
   "display_name": "Python 3",
   "language": "python",
   "name": "python3"
  },
  "language_info": {
   "codemirror_mode": {
    "name": "ipython",
    "version": 3
   },
   "file_extension": ".py",
   "mimetype": "text/x-python",
   "name": "python",
   "nbconvert_exporter": "python",
   "pygments_lexer": "ipython3",
   "version": "3.8.3"
  }
 },
 "nbformat": 4,
 "nbformat_minor": 4
}
